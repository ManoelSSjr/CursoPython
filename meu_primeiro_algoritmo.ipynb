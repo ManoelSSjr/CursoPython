{
  "nbformat": 4,
  "nbformat_minor": 0,
  "metadata": {
    "colab": {
      "provenance": []
    },
    "kernelspec": {
      "name": "python3",
      "display_name": "Python 3"
    },
    "language_info": {
      "name": "python"
    }
  },
  "cells": [
    {
      "cell_type": "code",
      "execution_count": 45,
      "metadata": {
        "colab": {
          "base_uri": "https://localhost:8080/"
        },
        "id": "HRDRZAFuXsEI",
        "outputId": "82a7d6dc-180b-4652-ea4f-d69abd1f560a"
      },
      "outputs": [
        {
          "output_type": "stream",
          "name": "stdout",
          "text": [
            "digite o primeino numero 2\n",
            "2\n",
            "digite o segundo numero 4\n",
            "4\n"
          ]
        }
      ],
      "source": [
        "num1 = input(\"digite o primeino numero \")\n",
        "print(num1)\n",
        "num2 = input(\"digite o segundo numero \")\n",
        "print(num2)"
      ]
    },
    {
      "cell_type": "code",
      "source": [
        "type(num1)"
      ],
      "metadata": {
        "colab": {
          "base_uri": "https://localhost:8080/"
        },
        "id": "0dkEZ0kq2mTl",
        "outputId": "0135fece-f422-49b7-987a-032698ecf4c9"
      },
      "execution_count": 21,
      "outputs": [
        {
          "output_type": "execute_result",
          "data": {
            "text/plain": [
              "str"
            ]
          },
          "metadata": {},
          "execution_count": 21
        }
      ]
    },
    {
      "cell_type": "code",
      "source": [
        "type(num2)"
      ],
      "metadata": {
        "colab": {
          "base_uri": "https://localhost:8080/"
        },
        "id": "ZWmSc3_s2p5a",
        "outputId": "1d542a25-b6ff-42d9-870e-0d6b085064a5"
      },
      "execution_count": 22,
      "outputs": [
        {
          "output_type": "execute_result",
          "data": {
            "text/plain": [
              "str"
            ]
          },
          "metadata": {},
          "execution_count": 22
        }
      ]
    },
    {
      "cell_type": "code",
      "source": [
        "num1 = int(num1)\n",
        "type(num1)"
      ],
      "metadata": {
        "colab": {
          "base_uri": "https://localhost:8080/"
        },
        "id": "pN2Y4trm2fDH",
        "outputId": "7d566df1-c06e-4d87-9338-2096200e6c31"
      },
      "execution_count": 19,
      "outputs": [
        {
          "output_type": "execute_result",
          "data": {
            "text/plain": [
              "int"
            ]
          },
          "metadata": {},
          "execution_count": 19
        }
      ]
    },
    {
      "cell_type": "code",
      "source": [
        "num2 = int(num2)\n",
        "type(num2)"
      ],
      "metadata": {
        "colab": {
          "base_uri": "https://localhost:8080/"
        },
        "id": "OVeK_kNm2z1p",
        "outputId": "bd1797b0-22ff-4e6d-fc9f-cc9fa4fb514d"
      },
      "execution_count": 27,
      "outputs": [
        {
          "output_type": "execute_result",
          "data": {
            "text/plain": [
              "int"
            ]
          },
          "metadata": {},
          "execution_count": 27
        }
      ]
    },
    {
      "cell_type": "code",
      "source": [
        "# soma\n",
        "soma = num1 + num2\n",
        "print(soma)"
      ],
      "metadata": {
        "colab": {
          "base_uri": "https://localhost:8080/"
        },
        "id": "BmZeoz2S2_te",
        "outputId": "6d19208a-0d0f-4a1c-d353-7dc1a679eb3e"
      },
      "execution_count": 28,
      "outputs": [
        {
          "output_type": "stream",
          "name": "stdout",
          "text": [
            "2\n"
          ]
        }
      ]
    },
    {
      "cell_type": "code",
      "source": [
        "# subtração\n",
        "subtracao = num1 - num2\n",
        "print(subtracao)"
      ],
      "metadata": {
        "colab": {
          "base_uri": "https://localhost:8080/"
        },
        "id": "Bf-kTg1n3KEt",
        "outputId": "3b75b261-c2d4-4ad0-9884-2aef3e1657d9"
      },
      "execution_count": 29,
      "outputs": [
        {
          "output_type": "stream",
          "name": "stdout",
          "text": [
            "0\n"
          ]
        }
      ]
    },
    {
      "cell_type": "code",
      "source": [
        "# multiplicação\n",
        "multiplicacao = num1 * num2\n",
        "print(multiplicacao)"
      ],
      "metadata": {
        "colab": {
          "base_uri": "https://localhost:8080/"
        },
        "id": "DxUwWp_k3P0S",
        "outputId": "a5368f69-7eec-46ba-bfa8-247012a80612"
      },
      "execution_count": 32,
      "outputs": [
        {
          "output_type": "stream",
          "name": "stdout",
          "text": [
            "1\n"
          ]
        }
      ]
    },
    {
      "cell_type": "code",
      "source": [
        "# divisao\n",
        "divisao = num1 / num2\n",
        "print(divisao)"
      ],
      "metadata": {
        "colab": {
          "base_uri": "https://localhost:8080/"
        },
        "id": "Afg7xCvZ3bYK",
        "outputId": "942c4a00-1aef-4d16-9ad9-25163793f434"
      },
      "execution_count": 33,
      "outputs": [
        {
          "output_type": "stream",
          "name": "stdout",
          "text": [
            "1.0\n"
          ]
        }
      ]
    },
    {
      "cell_type": "code",
      "source": [
        "if num1 > num2:\n",
        "  print(\"o primeiro numero é:\", num1,\"portanto, este é o maior valor\")\n",
        "elif num1 < num2:\n",
        "  print(\"o segundo numero é:\", num2,\"portanto, este é o maior valor\")\n",
        "else:\n",
        "  print(\"os numeros possuem o mesmo valor\")"
      ],
      "metadata": {
        "colab": {
          "base_uri": "https://localhost:8080/"
        },
        "id": "G0uH1jfl3qlm",
        "outputId": "16b77b1a-9453-400d-cd0d-df532a20e34b"
      },
      "execution_count": 46,
      "outputs": [
        {
          "output_type": "stream",
          "name": "stdout",
          "text": [
            "o segundo numero é: 4 portanto, este é o maior valor\n"
          ]
        }
      ]
    }
  ]
}